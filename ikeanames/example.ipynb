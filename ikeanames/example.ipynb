{
 "cells": [
  {
   "cell_type": "markdown",
   "metadata": {},
   "source": [
    "This example shows how to use the LSTM model to generate fake names. Check out the corresponding functions in `ikeanames.py` for the implementation details."
   ]
  },
  {
   "cell_type": "code",
   "execution_count": 1,
   "metadata": {},
   "outputs": [
    {
     "name": "stderr",
     "output_type": "stream",
     "text": [
      "Using TensorFlow backend.\n"
     ]
    }
   ],
   "source": [
    "import ikeanames"
   ]
  },
  {
   "cell_type": "markdown",
   "metadata": {},
   "source": [
    "Load the text file containing the names:"
   ]
  },
  {
   "cell_type": "code",
   "execution_count": 4,
   "metadata": {},
   "outputs": [],
   "source": [
    "names = ikeanames.load_names()"
   ]
  },
  {
   "cell_type": "markdown",
   "metadata": {},
   "source": [
    "Turn the character strings into a one-hot encoding that can be handled by Keras. This also gives you the corresponding decoding that can be used when we generate names."
   ]
  },
  {
   "cell_type": "code",
   "execution_count": 5,
   "metadata": {
    "collapsed": true
   },
   "outputs": [],
   "source": [
    "(max_len, encoding, decoding) = ikeanames.get_encoding(names)"
   ]
  },
  {
   "cell_type": "markdown",
   "metadata": {},
   "source": [
    "Encode the names into a training set for predicting the next character given the previous characters:"
   ]
  },
  {
   "cell_type": "code",
   "execution_count": 6,
   "metadata": {
    "collapsed": true
   },
   "outputs": [],
   "source": [
    "(X,y) = ikeanames.make_train_set(names, encoding, decoding, max_len)"
   ]
  },
  {
   "cell_type": "markdown",
   "metadata": {},
   "source": [
    "Create and compile the model:"
   ]
  },
  {
   "cell_type": "code",
   "execution_count": 8,
   "metadata": {},
   "outputs": [
    {
     "name": "stdout",
     "output_type": "stream",
     "text": [
      "_________________________________________________________________\n",
      "Layer (type)                 Output Shape              Param #   \n",
      "=================================================================\n",
      "lstm_1 (LSTM)                (None, 30)                7200      \n",
      "_________________________________________________________________\n",
      "dense_1 (Dense)              (None, 29)                899       \n",
      "=================================================================\n",
      "Total params: 8,099.0\n",
      "Trainable params: 8,099\n",
      "Non-trainable params: 0.0\n",
      "_________________________________________________________________\n",
      "None\n"
     ]
    }
   ],
   "source": [
    "model = ikeanames.make_model(X)"
   ]
  },
  {
   "cell_type": "markdown",
   "metadata": {},
   "source": [
    "Train the model - this may take a while. We run it the default of 100 training steps, after which the skill is not really increasing any more."
   ]
  },
  {
   "cell_type": "code",
   "execution_count": 9,
   "metadata": {},
   "outputs": [
    {
     "name": "stdout",
     "output_type": "stream",
     "text": [
      "Epoch 1/100\n",
      "5s - loss: 2.9660 - acc: 0.1720\n",
      "Epoch 2/100\n",
      "4s - loss: 2.8058 - acc: 0.1981\n",
      "Epoch 3/100\n",
      "4s - loss: 2.7725 - acc: 0.2084\n",
      "Epoch 4/100\n",
      "4s - loss: 2.7362 - acc: 0.2208\n",
      "Epoch 5/100\n",
      "4s - loss: 2.6809 - acc: 0.2348\n",
      "Epoch 6/100\n",
      "4s - loss: 2.6108 - acc: 0.2405\n",
      "Epoch 7/100\n",
      "3s - loss: 2.5460 - acc: 0.2449\n",
      "Epoch 8/100\n",
      "4s - loss: 2.4933 - acc: 0.2571\n",
      "Epoch 9/100\n",
      "4s - loss: 2.4568 - acc: 0.2633\n",
      "Epoch 10/100\n",
      "3s - loss: 2.4287 - acc: 0.2663\n",
      "Epoch 11/100\n",
      "5s - loss: 2.4074 - acc: 0.2707\n",
      "Epoch 12/100\n",
      "6s - loss: 2.3890 - acc: 0.2748\n",
      "Epoch 13/100\n",
      "7s - loss: 2.3738 - acc: 0.2772\n",
      "Epoch 14/100\n",
      "4s - loss: 2.3607 - acc: 0.2782\n",
      "Epoch 15/100\n",
      "3s - loss: 2.3476 - acc: 0.2855\n",
      "Epoch 16/100\n",
      "4s - loss: 2.3369 - acc: 0.2841\n",
      "Epoch 17/100\n",
      "4s - loss: 2.3274 - acc: 0.2920\n",
      "Epoch 18/100\n",
      "3s - loss: 2.3184 - acc: 0.2900\n",
      "Epoch 19/100\n",
      "5s - loss: 2.3109 - acc: 0.2917\n",
      "Epoch 20/100\n",
      "4s - loss: 2.3025 - acc: 0.2922\n",
      "Epoch 21/100\n",
      "4s - loss: 2.2954 - acc: 0.2925\n",
      "Epoch 22/100\n",
      "4s - loss: 2.2873 - acc: 0.2964\n",
      "Epoch 23/100\n",
      "3s - loss: 2.2798 - acc: 0.2972\n",
      "Epoch 24/100\n",
      "3s - loss: 2.2747 - acc: 0.2991\n",
      "Epoch 25/100\n",
      "3s - loss: 2.2687 - acc: 0.3008\n",
      "Epoch 26/100\n",
      "4s - loss: 2.2624 - acc: 0.3039\n",
      "Epoch 27/100\n",
      "3s - loss: 2.2553 - acc: 0.3051\n",
      "Epoch 28/100\n",
      "4s - loss: 2.2509 - acc: 0.3071\n",
      "Epoch 29/100\n",
      "6s - loss: 2.2455 - acc: 0.3055\n",
      "Epoch 30/100\n",
      "4s - loss: 2.2389 - acc: 0.3087\n",
      "Epoch 31/100\n",
      "3s - loss: 2.2326 - acc: 0.3100\n",
      "Epoch 32/100\n",
      "4s - loss: 2.2287 - acc: 0.3123\n",
      "Epoch 33/100\n",
      "4s - loss: 2.2221 - acc: 0.3112\n",
      "Epoch 34/100\n",
      "4s - loss: 2.2163 - acc: 0.3126\n",
      "Epoch 35/100\n",
      "4s - loss: 2.2124 - acc: 0.3187\n",
      "Epoch 36/100\n",
      "4s - loss: 2.2056 - acc: 0.3177\n",
      "Epoch 37/100\n",
      "4s - loss: 2.2009 - acc: 0.3191\n",
      "Epoch 38/100\n",
      "4s - loss: 2.1968 - acc: 0.3192\n",
      "Epoch 39/100\n",
      "3s - loss: 2.1909 - acc: 0.3216\n",
      "Epoch 40/100\n",
      "3s - loss: 2.1867 - acc: 0.3224\n",
      "Epoch 41/100\n",
      "3s - loss: 2.1826 - acc: 0.3217\n",
      "Epoch 42/100\n",
      "3s - loss: 2.1772 - acc: 0.3236\n",
      "Epoch 43/100\n",
      "4s - loss: 2.1737 - acc: 0.3245\n",
      "Epoch 44/100\n",
      "3s - loss: 2.1685 - acc: 0.3269\n",
      "Epoch 45/100\n",
      "4s - loss: 2.1643 - acc: 0.3227\n",
      "Epoch 46/100\n",
      "3s - loss: 2.1592 - acc: 0.3273\n",
      "Epoch 47/100\n",
      "3s - loss: 2.1555 - acc: 0.3297\n",
      "Epoch 48/100\n",
      "4s - loss: 2.1498 - acc: 0.3291\n",
      "Epoch 49/100\n",
      "3s - loss: 2.1446 - acc: 0.3301\n",
      "Epoch 50/100\n",
      "4s - loss: 2.1411 - acc: 0.3310\n",
      "Epoch 51/100\n",
      "3s - loss: 2.1369 - acc: 0.3361\n",
      "Epoch 52/100\n",
      "4s - loss: 2.1334 - acc: 0.3362\n",
      "Epoch 53/100\n",
      "4s - loss: 2.1293 - acc: 0.3335\n",
      "Epoch 54/100\n",
      "3s - loss: 2.1253 - acc: 0.3353\n",
      "Epoch 55/100\n",
      "3s - loss: 2.1196 - acc: 0.3395\n",
      "Epoch 56/100\n",
      "4s - loss: 2.1167 - acc: 0.3399\n",
      "Epoch 57/100\n",
      "3s - loss: 2.1134 - acc: 0.3394\n",
      "Epoch 58/100\n",
      "4s - loss: 2.1074 - acc: 0.3416\n",
      "Epoch 59/100\n",
      "4s - loss: 2.1038 - acc: 0.3447\n",
      "Epoch 60/100\n",
      "4s - loss: 2.0987 - acc: 0.3454\n",
      "Epoch 61/100\n",
      "4s - loss: 2.0950 - acc: 0.3464\n",
      "Epoch 62/100\n",
      "3s - loss: 2.0927 - acc: 0.3473\n",
      "Epoch 63/100\n",
      "4s - loss: 2.0872 - acc: 0.3477\n",
      "Epoch 64/100\n",
      "4s - loss: 2.0844 - acc: 0.3493\n",
      "Epoch 65/100\n",
      "4s - loss: 2.0802 - acc: 0.3493\n",
      "Epoch 66/100\n",
      "3s - loss: 2.0769 - acc: 0.3489\n",
      "Epoch 67/100\n",
      "4s - loss: 2.0718 - acc: 0.3511\n",
      "Epoch 68/100\n",
      "3s - loss: 2.0686 - acc: 0.3560\n",
      "Epoch 69/100\n",
      "4s - loss: 2.0651 - acc: 0.3551\n",
      "Epoch 70/100\n",
      "6s - loss: 2.0620 - acc: 0.3562\n",
      "Epoch 71/100\n",
      "5s - loss: 2.0576 - acc: 0.3555\n",
      "Epoch 72/100\n",
      "5s - loss: 2.0529 - acc: 0.3555\n",
      "Epoch 73/100\n",
      "5s - loss: 2.0511 - acc: 0.3573\n",
      "Epoch 74/100\n",
      "4s - loss: 2.0462 - acc: 0.3585\n",
      "Epoch 75/100\n",
      "7s - loss: 2.0427 - acc: 0.3575\n",
      "Epoch 76/100\n",
      "5s - loss: 2.0388 - acc: 0.3588\n",
      "Epoch 77/100\n",
      "3s - loss: 2.0343 - acc: 0.3637\n",
      "Epoch 78/100\n",
      "3s - loss: 2.0324 - acc: 0.3629\n",
      "Epoch 79/100\n",
      "4s - loss: 2.0285 - acc: 0.3619\n",
      "Epoch 80/100\n",
      "5s - loss: 2.0254 - acc: 0.3613\n",
      "Epoch 81/100\n",
      "4s - loss: 2.0216 - acc: 0.3636\n",
      "Epoch 82/100\n",
      "4s - loss: 2.0200 - acc: 0.3626\n",
      "Epoch 83/100\n",
      "4s - loss: 2.0141 - acc: 0.3665\n",
      "Epoch 84/100\n",
      "4s - loss: 2.0116 - acc: 0.3685\n",
      "Epoch 85/100\n",
      "4s - loss: 2.0083 - acc: 0.3676\n",
      "Epoch 86/100\n",
      "5s - loss: 2.0046 - acc: 0.3683\n",
      "Epoch 87/100\n",
      "5s - loss: 2.0022 - acc: 0.3696\n",
      "Epoch 88/100\n",
      "4s - loss: 1.9987 - acc: 0.3690\n",
      "Epoch 89/100\n",
      "4s - loss: 1.9963 - acc: 0.3700\n",
      "Epoch 90/100\n",
      "5s - loss: 1.9919 - acc: 0.3727\n",
      "Epoch 91/100\n",
      "5s - loss: 1.9885 - acc: 0.3752\n",
      "Epoch 92/100\n",
      "4s - loss: 1.9864 - acc: 0.3735\n",
      "Epoch 93/100\n",
      "4s - loss: 1.9825 - acc: 0.3729\n",
      "Epoch 94/100\n",
      "5s - loss: 1.9782 - acc: 0.3753\n",
      "Epoch 95/100\n",
      "4s - loss: 1.9768 - acc: 0.3781\n",
      "Epoch 96/100\n",
      "5s - loss: 1.9727 - acc: 0.3771\n",
      "Epoch 97/100\n",
      "4s - loss: 1.9690 - acc: 0.3775\n",
      "Epoch 98/100\n",
      "4s - loss: 1.9665 - acc: 0.3810\n",
      "Epoch 99/100\n",
      "4s - loss: 1.9624 - acc: 0.3812\n",
      "Epoch 100/100\n",
      "4s - loss: 1.9607 - acc: 0.3800\n"
     ]
    }
   ],
   "source": [
    "ikeanames.train_model(model, X, y)"
   ]
  },
  {
   "cell_type": "markdown",
   "metadata": {},
   "source": [
    "Generate a few example names:"
   ]
  },
  {
   "cell_type": "code",
   "execution_count": 14,
   "metadata": {},
   "outputs": [
    {
     "name": "stdout",
     "output_type": "stream",
     "text": [
      "BLAMMA\n",
      "SKÄLKT\n",
      "MÖKIN\n",
      "ONDMIG\n",
      "NARKA\n"
     ]
    }
   ],
   "source": [
    "for i in range(5): print(ikeanames.predict_name(model, max_len, encoding, decoding))"
   ]
  },
  {
   "cell_type": "code",
   "execution_count": null,
   "metadata": {
    "collapsed": true
   },
   "outputs": [],
   "source": []
  }
 ],
 "metadata": {
  "kernelspec": {
   "display_name": "Python 3",
   "language": "python",
   "name": "python3"
  },
  "language_info": {
   "codemirror_mode": {
    "name": "ipython",
    "version": 3
   },
   "file_extension": ".py",
   "mimetype": "text/x-python",
   "name": "python",
   "nbconvert_exporter": "python",
   "pygments_lexer": "ipython3",
   "version": "3.6.1"
  }
 },
 "nbformat": 4,
 "nbformat_minor": 2
}
